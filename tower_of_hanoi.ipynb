{
 "cells": [
  {
   "cell_type": "code",
   "execution_count": 56,
   "id": "07b2fcfe-0b29-4499-b385-42d961c300b6",
   "metadata": {},
   "outputs": [],
   "source": [
    "tower = {\n",
    "\t'A': [],\n",
    "\t'B': [],\n",
    "\t'C': [],\n",
    "}\n",
    "\n",
    "def printTower():   # This is to print the tower in horizon direction\n",
    "    global tower\n",
    "    for t in 'ABC':\n",
    "        print(f\"<{t}> \", end='')\n",
    "        for d in tower[t]:\n",
    "            print(f\"{d} \", end='')\n",
    "        print('')\n",
    "\t\n",
    "def towerOfHanoi(n, s_pole, i_pole, d_pole): \n",
    "    global tower\n",
    "    # print(f\"before {n}, {s_pole} {i_pole} {d_pole}    {tower}\")\n",
    "    if n == 1:\n",
    "        tower[d_pole].append(tower[s_pole][-1])\n",
    "        del tower[s_pole][-1]\n",
    "\t\t# print(f\"<1>  {s_pole}  --->  {d_pole}”)\n",
    "    else:\n",
    "        towerOfHanoi (n-1, s_pole, d_pole, i_pole)\n",
    "        \n",
    "        tower[d_pole].append(tower[s_pole][-1])\n",
    "        del tower[s_pole][-1]\n",
    "       \t# print(f\"<{n}>  {s_pole}  --->  {d_pole}”)\n",
    "        \n",
    "        towerOfHanoi (n-1, i_pole, s_pole, d_pole)\n",
    "    # print(f\"after  {n}, {s_pole} {i_pole} {d_pole}    {tower}\")\n"
   ]
  },
  {
   "cell_type": "code",
   "execution_count": 58,
   "id": "9b3c33fc-5844-42f9-86bf-571b48c54fd5",
   "metadata": {},
   "outputs": [
    {
     "name": "stdout",
     "output_type": "stream",
     "text": [
      "<A> \n",
      "<B> \n",
      "<C> 3 2 1 \n"
     ]
    }
   ],
   "source": [
    "# To change the number of discs, the value of n\n",
    "n = 3\n",
    "tower = {\n",
    "\t'A': list(x for x in range(n,0,-1)),\n",
    "\t'B': [],\n",
    "\t'C': [],\n",
    "}\n",
    "towerOfHanoi(n, \"A\", \"B\", \"C\")\n",
    "printTower()"
   ]
  },
  {
   "cell_type": "code",
   "execution_count": 52,
   "id": "457be061-97c7-448f-8496-94e605e0bf46",
   "metadata": {},
   "outputs": [],
   "source": [
    "# recurive factorial\n",
    "def factorial(n):\n",
    "    if n == 1:\n",
    "        return 1\n",
    "    else:\n",
    "        return factorial(n-1) * n\n",
    "\n",
    "# non recurive factorial\n",
    "def factorialNR(n):\n",
    "    ret = 1\n",
    "    while n > 1:\n",
    "        ret *= n\n",
    "        n -=1\n",
    "    return ret\n"
   ]
  },
  {
   "cell_type": "code",
   "execution_count": 53,
   "id": "5ab40556-f6fe-4243-98af-2c568ed563df",
   "metadata": {},
   "outputs": [],
   "source": [
    "import numpy as  np\n",
    "def binomial_coeff(n):\n",
    "    if n == 1:\n",
    "        return np.array([1,1])\n",
    "    else:\n",
    "        a = binomial_coeff(n-1)\n",
    "        return np.concatenate([a,np.array([0])]) + np.concatenate([np.array([0]), a]) "
   ]
  },
  {
   "cell_type": "code",
   "execution_count": 54,
   "id": "ec7f5450-61ab-492d-b028-eb925f5fb089",
   "metadata": {},
   "outputs": [
    {
     "data": {
      "text/plain": [
       "array([ 1,  5, 10, 10,  5,  1])"
      ]
     },
     "execution_count": 54,
     "metadata": {},
     "output_type": "execute_result"
    }
   ],
   "source": [
    "binomial_coeff(5)"
   ]
  },
  {
   "cell_type": "code",
   "execution_count": 55,
   "id": "d689bee1-c37d-4630-926f-95d35024d69a",
   "metadata": {},
   "outputs": [
    {
     "data": {
      "text/plain": [
       "array([ 1,  6, 15, 20, 15,  6,  1])"
      ]
     },
     "execution_count": 55,
     "metadata": {},
     "output_type": "execute_result"
    }
   ],
   "source": [
    "binomial_coeff(6)"
   ]
  },
  {
   "cell_type": "code",
   "execution_count": null,
   "id": "dd3e8682-3910-4122-94d4-7c0e84d4fb55",
   "metadata": {},
   "outputs": [],
   "source": []
  }
 ],
 "metadata": {
  "kernelspec": {
   "display_name": "Python 3 (ipykernel)",
   "language": "python",
   "name": "python3"
  },
  "language_info": {
   "codemirror_mode": {
    "name": "ipython",
    "version": 3
   },
   "file_extension": ".py",
   "mimetype": "text/x-python",
   "name": "python",
   "nbconvert_exporter": "python",
   "pygments_lexer": "ipython3",
   "version": "3.11.9"
  }
 },
 "nbformat": 4,
 "nbformat_minor": 5
}
